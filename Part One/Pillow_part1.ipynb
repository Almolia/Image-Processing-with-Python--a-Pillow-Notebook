{
 "cells": [
  {
   "cell_type": "markdown",
   "id": "1bab9404-5f35-4760-bf5c-65f4689af0fe",
   "metadata": {},
   "source": [
    "# Image Processing with Python: Pillow and OpenCV\n",
    "## 1| Pillow"
   ]
  },
  {
   "cell_type": "markdown",
   "id": "67a29e33-5296-44f5-9ed0-06ca79795861",
   "metadata": {},
   "source": [
    "Import PIL, Numpy and Matplotlib libraries: <br><br>\n",
    "* `PIL`: to work with images in python\n",
    "* `numpy`: to make array out of images and work with them\n",
    "* `pyplot`: to plot and show images (especially, to show result images next to each other)"
   ]
  },
  {
   "cell_type": "code",
   "execution_count": null,
   "id": "b6ee2515-5dc4-489f-901e-d4e79b4ad893",
   "metadata": {},
   "outputs": [],
   "source": [
    "from PIL import Image\n",
    "import numpy as np\n",
    "import matplotlib.pyplot as plt"
   ]
  },
  {
   "cell_type": "markdown",
   "id": "4f1c5a33-5656-4794-9394-c57d5dae5d7b",
   "metadata": {},
   "source": [
    "### Basic Image Operations\n",
    "> The most important part of pillow is the __`Image`__ object. That is where the image information is stored and can be used to change, save and display it."
   ]
  },
  {
   "cell_type": "markdown",
   "source": [
    "#### Loading and displaying an image"
   ],
   "metadata": {
    "collapsed": false
   },
   "id": "cb3d580620c572e0"
  },
  {
   "cell_type": "markdown",
   "id": "7b274249-7bb7-4722-a661-ce822a62653d",
   "metadata": {},
   "source": [
    "```PIL.Image.open(\"path/to/image.extension\") -> instance of Image class``` <br>\n",
    "```Image.show() -> None``` <br>\n",
    "Opens and identifies the given image file that you want to load. <br>\n",
    "You must specify the path, name and extension. (Using relative path is recommended) <br>\n",
    "The `show` method opens the image in a new window. In case you prefer to show the image as output of cell in notebook, simply type name of image in a single line. Note that, only one image can be displayed in output of a cell. If you call several images to be shown in the output, only the last one will be displayed."
   ]
  },
  {
   "cell_type": "code",
   "execution_count": null,
   "id": "d173c26b-569f-4293-bcc8-9c9ada852692",
   "metadata": {},
   "outputs": [],
   "source": [
    "# create new image by import, and show it (preferred)\n",
    "image1 = Image.open('spiritedaway1.jpg')\n",
    "image1.show()\n",
    "\n",
    "# display in notebook\n",
    "image1"
   ]
  },
  {
   "cell_type": "code",
   "execution_count": null,
   "id": "5936ee3c-6e06-455e-a803-d671e3b17b3e",
   "metadata": {},
   "outputs": [],
   "source": [
    "# alternative way to load and show image\n",
    "with Image.open('spiritedaway2.jpg') as image2:\n",
    "    image2.show()"
   ]
  },
  {
   "cell_type": "code",
   "execution_count": null,
   "id": "d7d70a64-6770-48a9-b0ce-ad1e15b7e463",
   "metadata": {},
   "outputs": [],
   "source": [
    "# create a new empty image from scratch \n",
    "image_blank = Image.new('RGBA', (1000, 600))\n",
    "image_blank.show()"
   ]
  },
  {
   "cell_type": "markdown",
   "source": [
    "#### Saving an image"
   ],
   "metadata": {
    "collapsed": false
   },
   "id": "9bd4cb5f88688b7e"
  },
  {
   "cell_type": "markdown",
   "id": "f20764b6-7a94-42bb-af6d-a5ce340b6928",
   "metadata": {},
   "source": [
    "```Image.save(\"path/to/image.extension\") -> None``` <br>\n",
    "This method is used to save an Image object (the image on which the method is called) to a file.<br>\n",
    "You must specify the path, name and extension. (Using relative path is recommended)"
   ]
  },
  {
   "cell_type": "code",
   "execution_count": null,
   "id": "ae49894c-79e6-4e40-ab52-91fc5f7ca9f7",
   "metadata": {},
   "outputs": [],
   "source": [
    "# save the image\n",
    "image1.save('newName.png')"
   ]
  },
  {
   "cell_type": "markdown",
   "source": [
    "#### Getting information about an image (attributes)"
   ],
   "metadata": {
    "collapsed": false
   },
   "id": "cc337e325d774880"
  },
  {
   "cell_type": "markdown",
   "id": "5771d2a6-a739-4367-83b9-9ead958c952d",
   "metadata": {},
   "source": [
    "Instances of the Image class have the following attributes:\n",
    "\n",
    "| Attribute | Description |\n",
    "| :--- | :--- | \n",
    "|```Image.filename: str```|The filename or path of the source file. (Only for images created with `open` function) |\n",
    "|```Image.mode: str```|The Image mode. (Typicall: '1', 'L', 'RGB', 'CMYK'|\n",
    "|```Image.size: tuple[int]```|The size (in pixels) is given as a 2-tuple (width, height)|\n",
    "|```Image.format: str or None```|The file format of the source file. (e.g. `JPG`, `JPEG`, `PNG`)|"
   ]
  },
  {
   "cell_type": "code",
   "execution_count": null,
   "id": "6219b10e-d3aa-4102-9bfb-54dd8fd9696c",
   "metadata": {},
   "outputs": [],
   "source": [
    "# print image information\n",
    "print(image1.filename)\n",
    "print(image1.mode)\n",
    "print(image1.size)\n",
    "print(image1.format)"
   ]
  },
  {
   "cell_type": "markdown",
   "source": [
    "### Basic Image Manipulations"
   ],
   "metadata": {
    "collapsed": false
   },
   "id": "dcb5865f-f93b-4ff5-8b3c-13a438d3a2a9"
  },
  {
   "cell_type": "markdown",
   "id": "dad709fd-d91f-47a4-b30a-dd183fc1bce6",
   "metadata": {
    "jp-MarkdownHeadingCollapsed": true
   },
   "source": [
    "> We will manipulate images both as arrays and PIL image objects. We will see how to copy an image to avoid aliasing. As well, some opeartions including `Rotate`, `Flip`, `Crop`, `Scale` and `Thumbnail` will be discussed. <br>\n",
    "Finally we will also learn to change pixel images; this will allow us to draw shapes, write text and superimpose images over other images.<br>"
   ]
  },
  {
   "cell_type": "code",
   "execution_count": null,
   "id": "f141344a-5718-4255-a4ca-4f5f1a5efc3b",
   "metadata": {},
   "outputs": [],
   "source": [
    "# image import\n",
    "image = Image.open('spiritedaway3.jpg')\n",
    "image.show()"
   ]
  },
  {
   "cell_type": "markdown",
   "id": "1abc8b51-7ff8-4c1c-b8f8-941b62bb90d6",
   "metadata": {},
   "source": [
    "First, keep in mind that Pillow’s coordinate system starts with (0, 0) in the upper left corner, with x increasing from left to right and y increasing from top to bottom:\n",
    "\n",
    "![Pillow’s coordinate system](https://images.ctfassets.net/23aumh6u8s0i/3OMipn13HefqrmEi8Lnvrh/b653ae86f49a72357bcec52ca4ff71b2/pillow_coordinate_system.png)"
   ]
  },
  {
   "cell_type": "markdown",
   "id": "7e46af04-c038-4709-9b86-755b99490381",
   "metadata": {
    "jp-MarkdownHeadingCollapsed": true
   },
   "source": [
    "#### Rotating an image"
   ]
  },
  {
   "cell_type": "markdown",
   "source": [
    "```Image.rotate(angle: float, expand: boolean, fillcolor: tuple[float, ...]) -> instance of Image class```<br>\n",
    "* This method returns a copy of an image, rotated the given number of degress (`angle`) counter clockwise around its center.\n",
    "* You can fill the empty region with a color (`fillcolor`), otherwise it will be black by default.\n",
    "*  You can determine whether fit image in frame or not by setting `expand` to `True` or `False`.\n",
    "To see more arguments of this method read this [documentation](https://pillow.readthedocs.io/en/stable/_modules/PIL/Image.html#Image.rotate)."
   ],
   "metadata": {
    "collapsed": false
   },
   "id": "266fd0bc-0d00-4182-8438-eafdd4cfdc74"
  },
  {
   "cell_type": "code",
   "execution_count": null,
   "id": "1215f4ec-0a26-4735-942d-c430a166ccc4",
   "metadata": {},
   "outputs": [],
   "source": [
    "# rotate\n",
    "rotated = image.rotate(60, expand=True, fillcolor=(255, 224, 209))\n",
    "rotated.show()"
   ]
  },
  {
   "cell_type": "markdown",
   "id": "ddd65fa3-84f7-4151-8a6c-c51f84527a31",
   "metadata": {
    "jp-MarkdownHeadingCollapsed": true
   },
   "source": [
    "#### Cropping an image"
   ]
  },
  {
   "cell_type": "markdown",
   "id": "8923bc37-82d0-45c0-95fc-0bb4bcea2207",
   "metadata": {},
   "source": [
    "```Image.crop(box: tuple[x_left, y_top, x_right, y_bottom]) -> instance of Image class``` <br>\n",
    "This method returns a rectangular region from this image.\n",
    "The cropped section includes the left column and the upper row of pixels and goes up to — but _doesn't_ include — the right column and bottom row of pixels. This is better explained with a diagram:\n",
    "\n",
    "![Pixel diagram showing the crop rectangle.](https://images.ctfassets.net/23aumh6u8s0i/0Er4ZZjUekX4GEwKaEzpj/77e63852e9403538f049816028e13e5a/crop_rectangle.png)"
   ]
  },
  {
   "cell_type": "code",
   "execution_count": null,
   "id": "092a8e99-e65e-437f-9a5a-f817e195be78",
   "metadata": {},
   "outputs": [],
   "source": [
    "# crop\n",
    "cropped = image.crop((450, 50, 750, 400))\n",
    "cropped.show()"
   ]
  },
  {
   "cell_type": "markdown",
   "id": "c0865838-19e8-4272-8c8d-1119c1a068e1",
   "metadata": {
    "jp-MarkdownHeadingCollapsed": true
   },
   "source": [
    "#### Flipping an image"
   ]
  },
  {
   "cell_type": "markdown",
   "id": "24a77aec-b715-4f82-953d-379deb20b418",
   "metadata": {},
   "source": [
    "```Image.transpose(method) -> instance of Image class``` <br>\n",
    "In order to flip an image, you must use `transpose` function. There are 7 possible values for `method`; the way you want to flip the image.\n",
    "* `FLIP_LEFT_RIGHT` = 0 (i.e. flip horizontally)\n",
    "* `FLIP_TOP_BOTTOM` = 1 (i.e. flip vertically)\n",
    "* `ROTATE_90` = 2\n",
    "* `ROTATE_180` = 3\n",
    "* `ROTATE_270` = 4\n",
    "* `TRANSPOSE` = 5\n",
    "* `TRANSVERSE` = 6"
   ]
  },
  {
   "cell_type": "code",
   "execution_count": null,
   "id": "a95e8875-2ac2-4682-8a2a-6cfed0676b63",
   "metadata": {},
   "outputs": [],
   "source": [
    "# flip\n",
    "flipped_hor = image.transpose(Image.Transpose.FLIP_LEFT_RIGHT)\n",
    "flipped_ver = image.transpose(Image.Transpose.FLIP_TOP_BOTTOM)\n",
    "flipped_hor.show()\n",
    "flipped_ver.show()"
   ]
  },
  {
   "cell_type": "markdown",
   "id": "24a0a4d5-d3f1-46c2-88ad-3d632cd791a6",
   "metadata": {
    "jp-MarkdownHeadingCollapsed": true
   },
   "source": [
    "#### Resizing an image"
   ]
  },
  {
   "cell_type": "markdown",
   "id": "c7a30fd3-e828-4f74-b868-a32daec55c9c",
   "metadata": {},
   "source": [
    "```Image.resize(size: tuple[int, int]) -> instance of Image class``` <br>\n",
    "This method returns a resized copy of this image.  Although we can use this method, using `scale` is preferred."
   ]
  },
  {
   "cell_type": "code",
   "execution_count": null,
   "id": "2ab35a81-3b91-4cd4-a5c6-e6ed4cb3c766",
   "metadata": {},
   "outputs": [],
   "source": [
    "# resize\n",
    "resized = image.resize((300, 750))  # bad example\n",
    "resized.show()"
   ]
  },
  {
   "cell_type": "markdown",
   "id": "0d43dc5a-2418-448a-869c-b2024d4d66c9",
   "metadata": {
    "jp-MarkdownHeadingCollapsed": true
   },
   "source": [
    "#### Scaling an image"
   ]
  },
  {
   "cell_type": "markdown",
   "id": "58feebca-9e8d-40fe-a461-ae4b1de497a0",
   "metadata": {},
   "source": [
    "```Image.resize(size: tuple[int, int]) -> instance of Image class``` <br>\n",
    "Using `resize` method and a scaled size tuple, we can resize an image in a way that ratio of height and width stays the same. Hence, by multplying a `scaling_factor` in primary dimensions, the image won't be neither squeezed nor stretched.\n",
    "* `image.size[0]`: primary width\n",
    "* `image.size[1]`: primary height<br>\n",
    "\n",
    "You can check changes in size via `properties` or `get info` of image in your device, according to the OS."
   ]
  },
  {
   "cell_type": "code",
   "execution_count": null,
   "id": "12596f68-72b1-47b1-bd62-29413d4d6f7c",
   "metadata": {},
   "outputs": [],
   "source": [
    "# scale\n",
    "scaling_factor = 2\n",
    "new_size = (image.size[0] * scaling_factor, image.size[1] * scaling_factor)\n",
    "scaled = image.resize(new_size)\n",
    "scaled.show()"
   ]
  },
  {
   "cell_type": "markdown",
   "id": "19cc919f-d0f2-450b-a50a-1f6cff4c1a0c",
   "metadata": {},
   "source": [
    "#### Changing Specific Pixels"
   ]
  },
  {
   "cell_type": "markdown",
   "id": "90c61976-9359-48fe-9ea5-32e874f7c6f6",
   "metadata": {},
   "source": [
    "> We can change pixels manually with array indexing. For example, as we know, our images are made of three color channels: Red, Green and Blue. Every RGB image is splittable into these three channels, more precisely three arrays (one array for each channel). By setting pixel values (array values) of two arbitrary channels (arrays), we can obtain color of the remaining intact channel. <br>\n",
    "> For instance, in order to extract Green channel of an image, one must set whole Red and Blue array to zero. (The method for same purpose is more convenient in OpenCV)"
   ]
  },
  {
   "cell_type": "code",
   "execution_count": null,
   "id": "14849875-3429-4d4b-abef-09847ece3301",
   "metadata": {},
   "outputs": [],
   "source": [
    "image = Image.open('spiritedaway4.jpg')\n",
    "width, height = image.size[0], image.size[1]\n",
    "\n",
    "# cast image to np array\n",
    "array = np.array(image)\n",
    "\n",
    "red_ch, green_ch, blue_ch = [np.copy(array) for _ in range(3)]\n",
    "\n",
    "red_ch[0:height, 0:width, [1, 2]] = 0\n",
    "green_ch[0:height, 0:width, [0, 2]] = 0\n",
    "blue_ch[0:height, 0:width, [0, 1]] = 0"
   ]
  },
  {
   "cell_type": "code",
   "execution_count": null,
   "id": "8bb71acf-d38e-40c2-9870-d5b6a46f722a",
   "metadata": {},
   "outputs": [],
   "source": [
    "# Plot the image and its three color channels\n",
    "plt.figure(figsize=(10, 10))\n",
    "\n",
    "plt.subplot(2, 2, 1)\n",
    "plt.imshow(array)\n",
    "plt.title(\"Original\")\n",
    "plt.axis('off')\n",
    "\n",
    "plt.subplot(2, 2, 2)\n",
    "plt.imshow(red_ch)\n",
    "plt.title(\"Red Channel\")\n",
    "plt.axis('off')\n",
    "\n",
    "plt.subplot(2, 2, 3)\n",
    "plt.imshow(green_ch)\n",
    "plt.title(\"Green Channel\")\n",
    "plt.axis('off')\n",
    "\n",
    "plt.subplot(2, 2, 4)\n",
    "plt.imshow(blue_ch)\n",
    "plt.title(\"Blue Channel\")\n",
    "plt.axis('off')\n",
    "\n",
    "plt.show()"
   ]
  },
  {
   "cell_type": "markdown",
   "source": [
    "#### Draw A Shape"
   ],
   "metadata": {
    "collapsed": false
   },
   "id": "8c0d97e5f3009225"
  },
  {
   "cell_type": "markdown",
   "source": [
    "> We can draw some filled shapes on a specific location of an image.<br>\n",
    "These tasks will be done using `ImageDraw` library."
   ],
   "metadata": {
    "collapsed": false
   },
   "id": "155a9c46a78b5ed8"
  },
  {
   "cell_type": "markdown",
   "source": [
    "First, we have to make an object of draw by calling its constructor and passing the image to it.\n",
    "* This `draw` object has some attributes that can be adjusted. (`fill` and `font`)\n",
    "* This `draw` object has various methods, to draw diverse shapes. Check the [documentation] (https://pillow.readthedocs.io/en/stable/reference/ImageDraw.html)\n",
    "* Whatever we want to draw, the corresponding method (with arbitrary values for arguments) must be called on the `draw` object."
   ],
   "metadata": {
    "collapsed": false
   },
   "id": "3171b6692cb97ef9"
  },
  {
   "cell_type": "code",
   "execution_count": null,
   "outputs": [],
   "source": [
    "from PIL import ImageDraw"
   ],
   "metadata": {
    "collapsed": false
   },
   "id": "aaa0f05757298e6d"
  },
  {
   "cell_type": "code",
   "execution_count": null,
   "outputs": [],
   "source": [
    "image = Image.open('spiritedaway5.png')\n",
    "image_copy1 = image.copy()\n",
    "image_copy2 = image.copy()\n",
    "\n",
    "# create draw object\n",
    "draw1 = ImageDraw.Draw(im=image_copy1)\n",
    "draw2 = ImageDraw.Draw(im=image_copy2)\n",
    "\n",
    "# determine boundaries (location) of shape\n",
    "width = image.size[0]\n",
    "height = image.size[1]\n",
    "boundaries = [2* width / 3, 0, width, height / 3]  # in order: left, top, right, bottom\n",
    "\n",
    "# draw ellipse\n",
    "draw1.ellipse(xy=boundaries, width=5, fill='#C8A2C8')\n",
    "\n",
    "# draw rounded rectangle\n",
    "draw2.rounded_rectangle(xy=boundaries, radius=2, outline='black', fill=None, width=20)"
   ],
   "metadata": {
    "collapsed": false
   },
   "id": "1b7d3fee43ff840b"
  },
  {
   "cell_type": "markdown",
   "source": [
    "plot the result:"
   ],
   "metadata": {
    "collapsed": false
   },
   "id": "b04dc4ea7aa1c292"
  },
  {
   "cell_type": "code",
   "execution_count": null,
   "outputs": [],
   "source": [
    "plt.figure(figsize=(20, 5))\n",
    "\n",
    "plt.subplot(1, 2, 1)\n",
    "plt.imshow(image_copy1)\n",
    "plt.title(\"Draw a Filled Lilac Ellipse\")\n",
    "plt.axis('off')\n",
    "\n",
    "plt.subplot(1, 2, 2)\n",
    "plt.imshow(image_copy2)\n",
    "plt.title(\"Draw an Empty Black Rectangle\")\n",
    "plt.axis('off')"
   ],
   "metadata": {
    "collapsed": false
   },
   "id": "1e2ba8d1b09b9d3d"
  },
  {
   "cell_type": "markdown",
   "source": [
    "#### Add A Text"
   ],
   "metadata": {
    "collapsed": false
   },
   "id": "e5d801f255c3a47f"
  },
  {
   "cell_type": "markdown",
   "source": [
    "> We can add some text to image using `ImageFont` Library."
   ],
   "metadata": {
    "collapsed": false
   },
   "id": "77c654919e4985cd"
  },
  {
   "cell_type": "code",
   "execution_count": null,
   "outputs": [],
   "source": [
    "from PIL import ImageFont"
   ],
   "metadata": {
    "collapsed": false
   },
   "id": "70b943090771dc17"
  },
  {
   "cell_type": "markdown",
   "source": [
    "We use the `text` method to place the text on the image. This method is called on the `draw` object we created before. The parameters include `xy` (the top-left anchor coordinates of the text), the parameter `text` (the text to be drawn), and `fill` (the color to use for the text).\n"
   ],
   "metadata": {
    "collapsed": false
   },
   "id": "176753b1c6114269"
  },
  {
   "cell_type": "code",
   "execution_count": null,
   "outputs": [],
   "source": [
    "# load the desired font\n",
    "font = ImageFont.truetype(font='Megatrans.otf', size=80)\n",
    "\n",
    "# set location of text\n",
    "location = (width/5, height/5)\n",
    "\n",
    "# draw a text\n",
    "draw2.text(xy=location, text=\"Spirited Away\", font=font)\n",
    "\n",
    "image_copy2"
   ],
   "metadata": {
    "collapsed": false
   },
   "id": "c40fd893e6f3dcec"
  },
  {
   "cell_type": "markdown",
   "source": [
    "#### Overlay (Paste)"
   ],
   "metadata": {
    "collapsed": false
   },
   "id": "f5a0ac4c464bda2c"
  },
  {
   "cell_type": "markdown",
   "source": [
    "> We can overlay one image over another using `paste` method. "
   ],
   "metadata": {
    "collapsed": false
   },
   "id": "a6053fad7c3e6304"
  },
  {
   "cell_type": "markdown",
   "source": [
    "```Image.paste(im: Image, box: touple[int, int]) -> None```\n",
    "Simply, call this method on the primary image, and pass the image you want to be overlayed (`im`), as well as `(left, upper)` point as its location."
   ],
   "metadata": {
    "collapsed": false
   },
   "id": "db5bd382ab921937"
  },
  {
   "cell_type": "code",
   "execution_count": null,
   "outputs": [],
   "source": [
    "chihiro = Image.open('chihiro.jpg')\n",
    "lin = Image.open('lin.png')\n",
    "\n",
    "width_c, height_c = chihiro.size[0], chihiro.size[1]\n",
    "width_l, height_l = lin.size[0], lin.size[1]\n",
    "\n",
    "#scale lin to a smaller image\n",
    "new_size_l = (int(width_l * 0.5), int(height_l*0.5))\n",
    "lin = lin.resize(new_size_l)\n",
    "\n",
    "# paste lin to corner of chihiro \n",
    "chihiro.paste(im=lin, box=(0, 0))\n",
    "\n",
    "# show chihiro\n",
    "chihiro"
   ],
   "metadata": {
    "collapsed": false
   },
   "id": "89cf2d3bc551857c"
  },
  {
   "cell_type": "markdown",
   "source": [
    "## Author\n",
    "\n",
    "Ali Shabestari: Bachelor's Degree Student in Computer Engineering at Sharif University of Technology. Interested in Computer Vision and Data Science. See [GitHub](https://github.com/Almolia)\n"
   ],
   "metadata": {
    "collapsed": false
   },
   "id": "496e4f5e69e2c993"
  },
  {
   "cell_type": "markdown",
   "source": [
    "## References\n",
    "\n",
    "* \"Introduction to Computer Vision and Image Processing\", by IBM. See [coursera](https://www.coursera.org/learn/introduction-computer-vision-watson-opencv)\n",
    "* Pillow Docs: [Image Module](https://pillow.readthedocs.io/en/stable/reference/Image.html#PIL.Image.Image.filename)\n",
    "* Pillow Docs: [ImageDraw module](https://pillow.readthedocs.io/en/stable/reference/ImageDraw.html)\n",
    "* Pillow Docs: [ImageFont module](https://pillow.readthedocs.io/en/stable/reference/ImageFont.html)\n",
    "* Image Processing with Pillow in Jupyter, by AccordionGuy. See [GitHUb](https://github.com/auth0-blog/image-processing-python-pillow-jupyter)"
   ],
   "metadata": {
    "collapsed": false
   },
   "id": "27bb7c9a2d5394fa"
  },
  {
   "cell_type": "code",
   "execution_count": null,
   "outputs": [],
   "source": [],
   "metadata": {
    "collapsed": false
   },
   "id": "38e1b83c70f64508"
  }
 ],
 "metadata": {
  "kernelspec": {
   "display_name": "Python 3 (ipykernel)",
   "language": "python",
   "name": "python3"
  },
  "language_info": {
   "codemirror_mode": {
    "name": "ipython",
    "version": 3
   },
   "file_extension": ".py",
   "mimetype": "text/x-python",
   "name": "python",
   "nbconvert_exporter": "python",
   "pygments_lexer": "ipython3",
   "version": "3.11.4"
  }
 },
 "nbformat": 4,
 "nbformat_minor": 5
}
